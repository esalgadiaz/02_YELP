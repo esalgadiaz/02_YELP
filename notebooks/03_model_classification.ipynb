{
 "cells": [
  {
   "attachments": {},
   "cell_type": "markdown",
   "metadata": {},
   "source": [
    "#  Practice 3 : Analysis of trade scores\n",
    " \n",
    "Authors:\n",
    "- Martín Hijar Jiménez\n",
    "- Eduardo Salgado Díaz del Río\n",
    "\n",
    "8 January 2022\n",
    "\n",
    "Subject: Machine Learning - Master's Degree in Data Science "
   ]
  },
  {
   "attachments": {},
   "cell_type": "markdown",
   "metadata": {},
   "source": [
    "Despite all the things we have seen above, we have decided to generate a prediction model of the different reviews we found in the yelp_academic_dataset_review file.\n",
    "\n",
    "Our goal is to make a NLP model, to familiarize ourselves with this technology and its main concepts in order to be able to make a relatively good model.\n",
    "\n",
    "We are going to study the text of the reviews we have and try to predict how many stars will be awarded to these reviews."
   ]
  },
  {
   "cell_type": "markdown",
   "metadata": {},
   "source": [
    "Libraries"
   ]
  },
  {
   "cell_type": "code",
   "execution_count": 1,
   "metadata": {
    "execution": {
     "iopub.execute_input": "2023-01-08T16:04:31.985425Z",
     "iopub.status.busy": "2023-01-08T16:04:31.984967Z",
     "iopub.status.idle": "2023-01-08T16:04:38.096823Z",
     "shell.execute_reply": "2023-01-08T16:04:38.095636Z",
     "shell.execute_reply.started": "2023-01-08T16:04:31.985356Z"
    }
   },
   "outputs": [],
   "source": [
    "import numpy as np\n",
    "import pandas as pd\n",
    "from scipy import sparse\n",
    "\n",
    "from sklearn.pipeline import Pipeline, make_pipeline\n",
    "from sklearn.feature_extraction.text import TfidfVectorizer\n",
    "from sklearn.base import BaseEstimator, ClassifierMixin\n",
    "from sklearn.linear_model import LogisticRegression\n",
    "from sklearn.model_selection import cross_val_score\n",
    "from sklearn import metrics\n",
    "from sklearn.metrics import roc_auc_score\n",
    "\n",
    "\n",
    "\n",
    "from keras.preprocessing.text import Tokenizer\n",
    "from keras.preprocessing.sequence import pad_sequences\n",
    "# from keras.utils import pad_sequences\n",
    "from keras.layers import Dense, Input, LSTM, Embedding, Dropout, Activation, SpatialDropout1D, GRU\n",
    "from keras.layers import Bidirectional, GlobalAveragePooling1D, GlobalMaxPooling1D, concatenate\n",
    "from keras.models import Model\n",
    "from keras import initializers, regularizers, constraints, optimizers, layers\n",
    "# from keras.utils import to_categorical\n",
    "\n",
    "import tensorflow as tf    \n",
    "tf.compat.v1.disable_v2_behavior()\n",
    "from tensorflow.keras.utils import to_categorical\n",
    "from keras.callbacks import EarlyStopping, ModelCheckpoint"
   ]
  },
  {
   "cell_type": "markdown",
   "metadata": {},
   "source": [
    "Read Data"
   ]
  },
  {
   "cell_type": "code",
   "execution_count": 2,
   "metadata": {
    "execution": {
     "iopub.execute_input": "2023-01-08T16:04:38.103065Z",
     "iopub.status.busy": "2023-01-08T16:04:38.102331Z",
     "iopub.status.idle": "2023-01-08T16:05:35.640145Z",
     "shell.execute_reply": "2023-01-08T16:05:35.639091Z",
     "shell.execute_reply.started": "2023-01-08T16:04:38.103025Z"
    }
   },
   "outputs": [],
   "source": [
    "business = pd.read_parquet('../input/yelppp/business.parquet')\n",
    "review_all = pd.read_parquet('../input/yelppp/review.parquet')"
   ]
  },
  {
   "cell_type": "code",
   "execution_count": 3,
   "metadata": {
    "execution": {
     "iopub.execute_input": "2023-01-08T16:05:35.642316Z",
     "iopub.status.busy": "2023-01-08T16:05:35.641882Z",
     "iopub.status.idle": "2023-01-08T16:05:37.326822Z",
     "shell.execute_reply": "2023-01-08T16:05:37.325842Z",
     "shell.execute_reply.started": "2023-01-08T16:05:35.642277Z"
    }
   },
   "outputs": [],
   "source": [
    "a = business[business['categories'].str.contains('Restaurant') == True]\n",
    "rev = review_all[review_all.business_id.isin(a['business_id']) == True]"
   ]
  },
  {
   "cell_type": "markdown",
   "metadata": {},
   "source": [
    "We randomly sampled the review data set for 350 000 reviews. Then we split between train and test."
   ]
  },
  {
   "cell_type": "code",
   "execution_count": 4,
   "metadata": {
    "execution": {
     "iopub.execute_input": "2023-01-08T16:05:37.329882Z",
     "iopub.status.busy": "2023-01-08T16:05:37.329244Z",
     "iopub.status.idle": "2023-01-08T16:05:37.334835Z",
     "shell.execute_reply": "2023-01-08T16:05:37.333727Z",
     "shell.execute_reply.started": "2023-01-08T16:05:37.329842Z"
    }
   },
   "outputs": [],
   "source": [
    "seed = 42\n",
    "n_sample = 350000\n",
    "n_split = 280000"
   ]
  },
  {
   "cell_type": "code",
   "execution_count": 5,
   "metadata": {
    "execution": {
     "iopub.execute_input": "2023-01-08T16:05:37.336828Z",
     "iopub.status.busy": "2023-01-08T16:05:37.336197Z",
     "iopub.status.idle": "2023-01-08T16:05:37.728236Z",
     "shell.execute_reply": "2023-01-08T16:05:37.727247Z",
     "shell.execute_reply.started": "2023-01-08T16:05:37.336787Z"
    }
   },
   "outputs": [],
   "source": [
    "rev_samp = rev.sample(n = n_sample, random_state = seed)\n",
    "train = rev_samp[0:n_split]\n",
    "test = rev_samp[n_split:]"
   ]
  },
  {
   "cell_type": "code",
   "execution_count": 6,
   "metadata": {
    "execution": {
     "iopub.execute_input": "2023-01-08T16:05:37.730423Z",
     "iopub.status.busy": "2023-01-08T16:05:37.729480Z",
     "iopub.status.idle": "2023-01-08T16:05:37.740425Z",
     "shell.execute_reply": "2023-01-08T16:05:37.739466Z",
     "shell.execute_reply.started": "2023-01-08T16:05:37.730385Z"
    }
   },
   "outputs": [
    {
     "data": {
      "text/plain": [
       "((280000, 9), (70000, 9))"
      ]
     },
     "execution_count": 6,
     "metadata": {},
     "output_type": "execute_result"
    }
   ],
   "source": [
    "train.shape, test.shape"
   ]
  },
  {
   "cell_type": "code",
   "execution_count": 7,
   "metadata": {
    "execution": {
     "iopub.execute_input": "2023-01-08T16:05:37.742212Z",
     "iopub.status.busy": "2023-01-08T16:05:37.741830Z",
     "iopub.status.idle": "2023-01-08T16:05:38.118111Z",
     "shell.execute_reply": "2023-01-08T16:05:38.117221Z",
     "shell.execute_reply.started": "2023-01-08T16:05:37.742162Z"
    }
   },
   "outputs": [
    {
     "data": {
      "text/html": [
       "<div>\n",
       "<style scoped>\n",
       "    .dataframe tbody tr th:only-of-type {\n",
       "        vertical-align: middle;\n",
       "    }\n",
       "\n",
       "    .dataframe tbody tr th {\n",
       "        vertical-align: top;\n",
       "    }\n",
       "\n",
       "    .dataframe thead th {\n",
       "        text-align: right;\n",
       "    }\n",
       "</style>\n",
       "<table border=\"1\" class=\"dataframe\">\n",
       "  <thead>\n",
       "    <tr style=\"text-align: right;\">\n",
       "      <th></th>\n",
       "      <th>text</th>\n",
       "      <th>stars</th>\n",
       "    </tr>\n",
       "  </thead>\n",
       "  <tbody>\n",
       "    <tr>\n",
       "      <th>1305110</th>\n",
       "      <td>I'm not a religious woman but I do think this ...</td>\n",
       "      <td>5.0</td>\n",
       "    </tr>\n",
       "    <tr>\n",
       "      <th>4150194</th>\n",
       "      <td>Miguel was a fabulous bartender!!!  Super nice...</td>\n",
       "      <td>5.0</td>\n",
       "    </tr>\n",
       "    <tr>\n",
       "      <th>2186108</th>\n",
       "      <td>I had the chicken mole.   It was excellent.   ...</td>\n",
       "      <td>4.0</td>\n",
       "    </tr>\n",
       "    <tr>\n",
       "      <th>738553</th>\n",
       "      <td>Waited next door at the Maple Leaf for a table...</td>\n",
       "      <td>3.0</td>\n",
       "    </tr>\n",
       "    <tr>\n",
       "      <th>6372467</th>\n",
       "      <td>Given the space and limited number of small ta...</td>\n",
       "      <td>4.0</td>\n",
       "    </tr>\n",
       "  </tbody>\n",
       "</table>\n",
       "</div>"
      ],
      "text/plain": [
       "                                                      text  stars\n",
       "1305110  I'm not a religious woman but I do think this ...    5.0\n",
       "4150194  Miguel was a fabulous bartender!!!  Super nice...    5.0\n",
       "2186108  I had the chicken mole.   It was excellent.   ...    4.0\n",
       "738553   Waited next door at the Maple Leaf for a table...    3.0\n",
       "6372467  Given the space and limited number of small ta...    4.0"
      ]
     },
     "execution_count": 7,
     "metadata": {},
     "output_type": "execute_result"
    },
    {
     "data": {
      "image/png": "[encoded data removed]",
      "text/plain": [
       "<Figure size 432x288 with 1 Axes>"
      ]
     },
     "metadata": {
      "needs_background": "light"
     },
     "output_type": "display_data"
    }
   ],
   "source": [
    "train = train[['text', 'stars']]\n",
    "train['stars'].hist();train.head()"
   ]
  },
  {
   "cell_type": "markdown",
   "metadata": {},
   "source": [
    "This sample is quite skewed towards 4 and mostly 5-star reviews. We don't think this is something we want to balance the data set for, but it is something we will take into account when analyzing the accuracy of the model."
   ]
  },
  {
   "cell_type": "code",
   "execution_count": 8,
   "metadata": {
    "execution": {
     "iopub.execute_input": "2023-01-08T16:05:38.119930Z",
     "iopub.status.busy": "2023-01-08T16:05:38.119571Z",
     "iopub.status.idle": "2023-01-08T16:05:38.190245Z",
     "shell.execute_reply": "2023-01-08T16:05:38.189254Z",
     "shell.execute_reply.started": "2023-01-08T16:05:38.119893Z"
    }
   },
   "outputs": [
    {
     "data": {
      "text/html": [
       "<div>\n",
       "<style scoped>\n",
       "    .dataframe tbody tr th:only-of-type {\n",
       "        vertical-align: middle;\n",
       "    }\n",
       "\n",
       "    .dataframe tbody tr th {\n",
       "        vertical-align: top;\n",
       "    }\n",
       "\n",
       "    .dataframe thead th {\n",
       "        text-align: right;\n",
       "    }\n",
       "</style>\n",
       "<table border=\"1\" class=\"dataframe\">\n",
       "  <thead>\n",
       "    <tr style=\"text-align: right;\">\n",
       "      <th></th>\n",
       "      <th>text</th>\n",
       "      <th>stars_1.0</th>\n",
       "      <th>stars_2.0</th>\n",
       "      <th>stars_3.0</th>\n",
       "      <th>stars_4.0</th>\n",
       "      <th>stars_5.0</th>\n",
       "    </tr>\n",
       "  </thead>\n",
       "  <tbody>\n",
       "    <tr>\n",
       "      <th>1305110</th>\n",
       "      <td>I'm not a religious woman but I do think this ...</td>\n",
       "      <td>0</td>\n",
       "      <td>0</td>\n",
       "      <td>0</td>\n",
       "      <td>0</td>\n",
       "      <td>1</td>\n",
       "    </tr>\n",
       "    <tr>\n",
       "      <th>4150194</th>\n",
       "      <td>Miguel was a fabulous bartender!!!  Super nice...</td>\n",
       "      <td>0</td>\n",
       "      <td>0</td>\n",
       "      <td>0</td>\n",
       "      <td>0</td>\n",
       "      <td>1</td>\n",
       "    </tr>\n",
       "    <tr>\n",
       "      <th>2186108</th>\n",
       "      <td>I had the chicken mole.   It was excellent.   ...</td>\n",
       "      <td>0</td>\n",
       "      <td>0</td>\n",
       "      <td>0</td>\n",
       "      <td>1</td>\n",
       "      <td>0</td>\n",
       "    </tr>\n",
       "    <tr>\n",
       "      <th>738553</th>\n",
       "      <td>Waited next door at the Maple Leaf for a table...</td>\n",
       "      <td>0</td>\n",
       "      <td>0</td>\n",
       "      <td>1</td>\n",
       "      <td>0</td>\n",
       "      <td>0</td>\n",
       "    </tr>\n",
       "    <tr>\n",
       "      <th>6372467</th>\n",
       "      <td>Given the space and limited number of small ta...</td>\n",
       "      <td>0</td>\n",
       "      <td>0</td>\n",
       "      <td>0</td>\n",
       "      <td>1</td>\n",
       "      <td>0</td>\n",
       "    </tr>\n",
       "  </tbody>\n",
       "</table>\n",
       "</div>"
      ],
      "text/plain": [
       "                                                      text  stars_1.0  \\\n",
       "1305110  I'm not a religious woman but I do think this ...          0   \n",
       "4150194  Miguel was a fabulous bartender!!!  Super nice...          0   \n",
       "2186108  I had the chicken mole.   It was excellent.   ...          0   \n",
       "738553   Waited next door at the Maple Leaf for a table...          0   \n",
       "6372467  Given the space and limited number of small ta...          0   \n",
       "\n",
       "         stars_2.0  stars_3.0  stars_4.0  stars_5.0  \n",
       "1305110          0          0          0          1  \n",
       "4150194          0          0          0          1  \n",
       "2186108          0          0          1          0  \n",
       "738553           0          1          0          0  \n",
       "6372467          0          0          1          0  "
      ]
     },
     "execution_count": 8,
     "metadata": {},
     "output_type": "execute_result"
    }
   ],
   "source": [
    "train = pd.get_dummies(train, columns = ['stars'])\n",
    "train.head()"
   ]
  },
  {
   "cell_type": "markdown",
   "metadata": {},
   "source": [
    "We divide the different stars (from 1 to 5) into dummy columns in order to start training our model."
   ]
  },
  {
   "cell_type": "code",
   "execution_count": 9,
   "metadata": {
    "execution": {
     "iopub.execute_input": "2023-01-08T16:05:38.192123Z",
     "iopub.status.busy": "2023-01-08T16:05:38.191762Z",
     "iopub.status.idle": "2023-01-08T16:05:38.219917Z",
     "shell.execute_reply": "2023-01-08T16:05:38.219089Z",
     "shell.execute_reply.started": "2023-01-08T16:05:38.192088Z"
    }
   },
   "outputs": [
    {
     "data": {
      "text/plain": [
       "((280000, 6), (70000, 6))"
      ]
     },
     "execution_count": 9,
     "metadata": {},
     "output_type": "execute_result"
    }
   ],
   "source": [
    "test = test[['text', 'stars']]\n",
    "test = pd.get_dummies(test, columns = ['stars'])\n",
    "train.shape, test.shape"
   ]
  },
  {
   "cell_type": "markdown",
   "metadata": {},
   "source": [
    "So now we have a training set with 280,000 reviews and a test set with 70,000."
   ]
  },
  {
   "cell_type": "code",
   "execution_count": 10,
   "metadata": {
    "execution": {
     "iopub.execute_input": "2023-01-08T16:05:38.225387Z",
     "iopub.status.busy": "2023-01-08T16:05:38.224762Z",
     "iopub.status.idle": "2023-01-08T16:05:38.247361Z",
     "shell.execute_reply": "2023-01-08T16:05:38.246395Z",
     "shell.execute_reply.started": "2023-01-08T16:05:38.225352Z"
    }
   },
   "outputs": [
    {
     "data": {
      "text/plain": [
       "((28000, 6), (7000, 6))"
      ]
     },
     "execution_count": 10,
     "metadata": {},
     "output_type": "execute_result"
    }
   ],
   "source": [
    "# set frac = 1. to use the entire sample\n",
    "frac = .1\n",
    "train_samp = train.sample(frac = frac, random_state = seed)\n",
    "test_samp = test.sample(frac = frac, random_state = seed)\n",
    "train_samp.shape, test_samp.shape"
   ]
  },
  {
   "cell_type": "markdown",
   "metadata": {},
   "source": [
    "Naive Bayes Linear Model"
   ]
  },
  {
   "cell_type": "markdown",
   "metadata": {},
   "source": [
    "We are going to establish a reference model. Researching NLP problems we have seen that a Naive Bayes linear classifier is a really solid baseline for NLP problems."
   ]
  },
  {
   "cell_type": "markdown",
   "metadata": {},
   "source": [
    "The Naive Bayes algorithm uses Bayes' theorem to calculate the conditional probability of a rating given some text. Of course, this is rather vague. Let's say our review is \"This restaurant is terrible.\" You could take that 4-word phrase and see how many times it appears in 1-star reviews and then see how many times it appears in 5-star reviews. With those counts, you could calculate a likelihood ratio that tells you which type of review appears most often in that text.\n",
    "\n",
    "How many reviews have that exact text \"This restaurant is terrible\"? We would never get satisfactory results because the reviews would all have unique text. A simple way to fix this is to remove all sentence structure and simply use a bag-of-words representation of the review text. \"This restaurant is terrible\" becomes a vector with counts of \"This\", \"restaurant\", \"is\", \"terrible\".\n",
    "\n",
    "As a final preprocessing step, we are actually going to use tfidf (term frequency, inverse document frequency) instead of simply counting words to represent word vectors. Essentially, this gives weights to words to show how important a word is to a particular review, so frequently used words, such as \"the\", have a lower weight since they appear so frequently in almost every review.\n",
    "\n",
    "This tokenization and tfidf calculation is done with sklearn's TfidfVectorizer method."
   ]
  },
  {
   "cell_type": "code",
   "execution_count": 11,
   "metadata": {
    "execution": {
     "iopub.execute_input": "2023-01-08T16:05:38.249239Z",
     "iopub.status.busy": "2023-01-08T16:05:38.248807Z",
     "iopub.status.idle": "2023-01-08T16:05:38.254736Z",
     "shell.execute_reply": "2023-01-08T16:05:38.253281Z",
     "shell.execute_reply.started": "2023-01-08T16:05:38.249182Z"
    }
   },
   "outputs": [],
   "source": [
    "# max_features is an upper bound on the number of words in the vocabulary\n",
    "max_features = 2000\n",
    "tfidf = TfidfVectorizer(max_features = max_features)"
   ]
  },
  {
   "cell_type": "markdown",
   "metadata": {},
   "source": [
    "Once the text is prepared, we can apply Bayes' theorem. We want to find the answers to the following questions: given the review \"This restaurant is terrible\", what is the likelihood that it is a 1-star review and what is the likelihood that it is a 5-star review (this works the same for ratings from 1 to 5 stars, it is just simpler to demonstrate with a binary classification)? Another way to ask this question is: what is the probability of a 1-star review given the words \"This\", \"restaurant\", \"is\", \"terrible\"? If we assume that each word is independent of the others (a very simplified assumption, but the source of the name Naive Bayes), we can calculate this as follows:\n",
    "\n",
    "*P(this|1 star)×P(restaurant|1 star)×P(is|1 star)×P(terrible|1 star)*\n",
    "\n",
    "One issue is what to do with words that we haven't encountered in a review category. Should we pretend that \"amazing\" never appears in a 1-star review simply because we haven't seen it yet? This would cause many problems, so we get around it by adding 1 to all word counts. This essentially means - yes, we haven't seen that word yet, but we acknowledge that it is possible it could occur.\n",
    "\n",
    "After all this, you can calculate the probability of \"This restaurant is terrible\" given a 1-star review and given a 5-star review. Once calculated, we simply predict the rating with the higher probability or divide them and predict 1 star if positive and 5 stars if negative."
   ]
  },
  {
   "cell_type": "markdown",
   "metadata": {},
   "source": [
    "We take a NBFeatures class to include all the Naive Bayes logic."
   ]
  },
  {
   "cell_type": "code",
   "execution_count": 12,
   "metadata": {
    "execution": {
     "iopub.execute_input": "2023-01-08T16:05:38.256385Z",
     "iopub.status.busy": "2023-01-08T16:05:38.255897Z",
     "iopub.status.idle": "2023-01-08T16:05:38.266535Z",
     "shell.execute_reply": "2023-01-08T16:05:38.265582Z",
     "shell.execute_reply.started": "2023-01-08T16:05:38.256349Z"
    }
   },
   "outputs": [],
   "source": [
    "class NBFeatures(BaseEstimator):\n",
    "    def __init__(self, alpha):\n",
    "        self.alpha = alpha\n",
    "        \n",
    "    def preprocess_x(self, x, r):\n",
    "        return x.multiply(r)\n",
    "    \n",
    "    def pr(self, x, y_i, y):\n",
    "        p = x[y == y_i].sum(0)\n",
    "        return (p + self.alpha)/((y==y_i).sum()+self.alpha)\n",
    "    \n",
    "    def fit(self, x, y = None):\n",
    "        self._r = sparse.csr_matrix(np.log(self.pr(x, 1, y) /self.pr(x, 0, y)))\n",
    "        return self\n",
    "    \n",
    "    def transform(self, x):\n",
    "        x_nb = self.preprocess_x(x, self._r)\n",
    "        return x_nb"
   ]
  },
  {
   "cell_type": "markdown",
   "metadata": {},
   "source": [
    "Then use the sklearn Pipeline to neatly combine multiple steps. This first processes the data by tokenizing and calculating the tfidf (using the previously created tfidfVectorizer). It inputs that into the NBFeatures method to generate all the Naive Bayes features. Finally, those features are input into the logistic regression, where the parameters are learned."
   ]
  },
  {
   "cell_type": "code",
   "execution_count": 13,
   "metadata": {
    "execution": {
     "iopub.execute_input": "2023-01-08T16:05:38.268691Z",
     "iopub.status.busy": "2023-01-08T16:05:38.268351Z",
     "iopub.status.idle": "2023-01-08T16:05:38.275965Z",
     "shell.execute_reply": "2023-01-08T16:05:38.274988Z",
     "shell.execute_reply.started": "2023-01-08T16:05:38.268656Z"
    }
   },
   "outputs": [],
   "source": [
    "lr = LogisticRegression()\n",
    "nb = NBFeatures(1)\n",
    "p = Pipeline([\n",
    "    ('tfidf', tfidf),\n",
    "    ('nb', nb),\n",
    "    ('lr', lr)\n",
    "])"
   ]
  },
  {
   "cell_type": "markdown",
   "metadata": {},
   "source": [
    "The star ratings are predicted one at a time, so below we go through the binary ratings columns and generate probability predictions for each class."
   ]
  },
  {
   "cell_type": "code",
   "execution_count": 14,
   "metadata": {
    "execution": {
     "iopub.execute_input": "2023-01-08T16:05:38.277969Z",
     "iopub.status.busy": "2023-01-08T16:05:38.277589Z",
     "iopub.status.idle": "2023-01-08T16:06:29.350955Z",
     "shell.execute_reply": "2023-01-08T16:06:29.349995Z",
     "shell.execute_reply.started": "2023-01-08T16:05:38.277935Z"
    }
   },
   "outputs": [
    {
     "name": "stdout",
     "output_type": "stream",
     "text": [
      "CV score for class stars_1.0 is 0.9282856439522202\n",
      "CV score for class stars_2.0 is 0.9152500303949603\n",
      "CV score for class stars_3.0 is 0.8902857063530529\n",
      "CV score for class stars_4.0 is 0.7692500198188075\n",
      "CV score for class stars_5.0 is 0.8047142711860144\n"
     ]
    }
   ],
   "source": [
    "class_names = ['stars_1.0', 'stars_2.0', 'stars_3.0', 'stars_4.0', 'stars_5.0']\n",
    "scores = []\n",
    "preds = np.zeros((len(test_samp), len(class_names)))\n",
    "for i, class_name in enumerate(class_names):\n",
    "    train_target = train_samp[class_name]    \n",
    "    cv_score = np.mean(cross_val_score(estimator = p, X = train_samp['text'].values, \n",
    "                                      y = train_target, cv = 3, scoring = 'accuracy'))\n",
    "    scores.append(cv_score)\n",
    "    print('CV score for class {} is {}'.format(class_name, cv_score))\n",
    "    p.fit(train_samp['text'].values, train_target)\n",
    "    preds[:,i] = p.predict_proba(test_samp['text'].values)[:,1]"
   ]
  },
  {
   "cell_type": "markdown",
   "metadata": {},
   "source": [
    "We use 3 cross validation to estimate the accuracy."
   ]
  },
  {
   "cell_type": "code",
   "execution_count": 15,
   "metadata": {
    "execution": {
     "iopub.execute_input": "2023-01-08T16:06:29.352855Z",
     "iopub.status.busy": "2023-01-08T16:06:29.352376Z",
     "iopub.status.idle": "2023-01-08T16:06:29.374388Z",
     "shell.execute_reply": "2023-01-08T16:06:29.373323Z",
     "shell.execute_reply.started": "2023-01-08T16:06:29.352812Z"
    }
   },
   "outputs": [
    {
     "name": "stdout",
     "output_type": "stream",
     "text": [
      "              precision    recall  f1-score   support\n",
      "\n",
      "           0       0.63      0.79      0.70       831\n",
      "           1       0.43      0.16      0.24       607\n",
      "           2       0.48      0.25      0.33       795\n",
      "           3       0.50      0.37      0.42      1730\n",
      "           4       0.69      0.92      0.79      3037\n",
      "\n",
      "    accuracy                           0.62      7000\n",
      "   macro avg       0.55      0.50      0.49      7000\n",
      "weighted avg       0.59      0.62      0.59      7000\n",
      "\n"
     ]
    }
   ],
   "source": [
    "t = metrics.classification_report(np.argmax(test_samp[class_names].values, axis = 1),np.argmax(preds, axis = 1))\n",
    "print(t)"
   ]
  },
  {
   "cell_type": "markdown",
   "metadata": {},
   "source": [
    "The first major development in NLP that we wanted to learn about was embeddings, or word vectors. The basic Word2Vec technique attempts to represent the meaning of words by computing the context in which they occur. Since we're dealing with natural language, this will be thousands of different contexts, resulting in vectors with potentially millions of dimensions. For example, you might see \"it\" appear in context as \"it was\", \"it wasn't\", \"it become\", \"it sat\", and so on. Since it doesn't appear in thousands of other contexts, we end up with a long vector [0, 1, 0, 0, 0, 0, 2, 0, ...] with a 0 in the context didn't see that word, and how many times it occurs elsewhere.\n",
    "\n",
    "It turns out that you can represent most information (or vector spaces) in fewer dimensions, so word vectors use dimensionality reduction techniques to reduce the dimensionality to 25-300. For a more detailed overview of the basic ideas, this core is a good code-centric guide.\n",
    "\n",
    "This may not seem very useful at first glance, but these word vectors tell us the relationship between words. Since they are vectors, we can use them for calculations.\n",
    "\n",
    "The bad news is that training your own word vectors requires a lot of text data. Fortunately, there are several very good precomputed vectors (or embeddings) freely distributed and available for modeling. We are using GloVe embeddings from the Twitter corpus here. There are GloVe embeds from other sources, such as Wikipedia or Common Crawl, and others, such as FastText. Knowing from research that comments often contain substandard English and unusual punctuation/language. We thought Twitter seemed appropriate"
   ]
  },
  {
   "cell_type": "markdown",
   "metadata": {},
   "source": [
    "GloVe embedding from Twitter corpus:"
   ]
  },
  {
   "cell_type": "markdown",
   "metadata": {},
   "source": [
    "https://nlp.stanford.edu/projects/glove/ "
   ]
  },
  {
   "cell_type": "code",
   "execution_count": 16,
   "metadata": {
    "execution": {
     "iopub.execute_input": "2023-01-08T16:06:29.376301Z",
     "iopub.status.busy": "2023-01-08T16:06:29.375926Z",
     "iopub.status.idle": "2023-01-08T16:07:23.759196Z",
     "shell.execute_reply": "2023-01-08T16:07:23.758257Z",
     "shell.execute_reply.started": "2023-01-08T16:06:29.376266Z"
    }
   },
   "outputs": [],
   "source": [
    "embed_size = 200 \n",
    "# max number of unique words \n",
    "max_features = 20000\n",
    "# max number of words from review to use\n",
    "maxlen = 200\n",
    "\n",
    "# File path\n",
    "embedding_file = '../input/yelppp/glove.twitter.27B.200d.txt'\n",
    "\n",
    "# read in embeddings\n",
    "def get_coefs(word,*arr): return word, np.asarray(arr, dtype='float32')\n",
    "embeddings_index = dict(get_coefs(*o.strip().split()) for o in open(embedding_file, encoding='utf-8'))"
   ]
  },
  {
   "cell_type": "code",
   "execution_count": 17,
   "metadata": {
    "execution": {
     "iopub.execute_input": "2023-01-08T16:07:23.761178Z",
     "iopub.status.busy": "2023-01-08T16:07:23.760829Z",
     "iopub.status.idle": "2023-01-08T16:07:23.768951Z",
     "shell.execute_reply": "2023-01-08T16:07:23.767192Z",
     "shell.execute_reply.started": "2023-01-08T16:07:23.761142Z"
    }
   },
   "outputs": [],
   "source": [
    "class_names = ['stars_1.0', 'stars_2.0', 'stars_3.0', 'stars_4.0', 'stars_5.0']\n",
    "y = train_samp[class_names].values"
   ]
  },
  {
   "cell_type": "markdown",
   "metadata": {},
   "source": [
    "We have to take the extra step of padding the vectors so they are all the same length. Keras requires this, and the pad_sequences method makes it easy."
   ]
  },
  {
   "cell_type": "code",
   "execution_count": 18,
   "metadata": {
    "execution": {
     "iopub.execute_input": "2023-01-08T16:07:23.771062Z",
     "iopub.status.busy": "2023-01-08T16:07:23.770802Z",
     "iopub.status.idle": "2023-01-08T16:07:28.107111Z",
     "shell.execute_reply": "2023-01-08T16:07:28.106159Z",
     "shell.execute_reply.started": "2023-01-08T16:07:23.771038Z"
    }
   },
   "outputs": [],
   "source": [
    "tokenizer = Tokenizer(num_words=max_features)\n",
    "tokenizer.fit_on_texts(list(train_samp['text'].values))\n",
    "X_train = tokenizer.texts_to_sequences(train_samp['text'].values)\n",
    "X_test = tokenizer.texts_to_sequences(test_samp['text'].values)\n",
    "x_train = pad_sequences(X_train, maxlen = maxlen)\n",
    "x_test = pad_sequences(X_test, maxlen = maxlen)"
   ]
  },
  {
   "cell_type": "markdown",
   "metadata": {},
   "source": [
    " One problem that can arise when using pretrained embeddings is that if a word does not appear in the embedding training dataset, then there is no vector for it in the embedding file. You can randomly initialize the vectors for words that don't appear in the embedding vectors, or you can use multiple embedding files (like glove + fasttext) to try and cover a larger vocabulary. We are just leaving them as empty vectors, but you should try a variety of methods to see which works best for your new dataset."
   ]
  },
  {
   "cell_type": "code",
   "execution_count": 19,
   "metadata": {
    "execution": {
     "iopub.execute_input": "2023-01-08T16:07:28.109088Z",
     "iopub.status.busy": "2023-01-08T16:07:28.108714Z",
     "iopub.status.idle": "2023-01-08T16:07:28.173199Z",
     "shell.execute_reply": "2023-01-08T16:07:28.172240Z",
     "shell.execute_reply.started": "2023-01-08T16:07:28.109050Z"
    }
   },
   "outputs": [],
   "source": [
    "word_index = tokenizer.word_index\n",
    "\n",
    "nb_words = min(max_features, len(word_index))\n",
    "\n",
    "embedding_matrix = np.zeros((nb_words, embed_size))\n",
    "missed = []\n",
    "for word, i in word_index.items():\n",
    "    if i >= max_features: break\n",
    "    embedding_vector = embeddings_index.get(word)\n",
    "    if embedding_vector is not None:\n",
    "        embedding_matrix[i] = embedding_vector\n",
    "    else:\n",
    "        missed.append(word)"
   ]
  },
  {
   "cell_type": "markdown",
   "metadata": {},
   "source": [
    "Many of the words seem to be specific to restaurant reviews, with many restaurant names, food names, and words that may not appear frequently in tweets. One area where we could potentially increase accuracy is by fixing all the contractions that are not present in the embedding vocabulary. We could also further improve accuracy by stemming and lemmatizing the tokens."
   ]
  },
  {
   "cell_type": "code",
   "execution_count": 20,
   "metadata": {
    "execution": {
     "iopub.execute_input": "2023-01-08T16:07:28.174820Z",
     "iopub.status.busy": "2023-01-08T16:07:28.174466Z",
     "iopub.status.idle": "2023-01-08T16:07:31.314466Z",
     "shell.execute_reply": "2023-01-08T16:07:31.313541Z",
     "shell.execute_reply.started": "2023-01-08T16:07:28.174783Z"
    }
   },
   "outputs": [
    {
     "name": "stderr",
     "output_type": "stream",
     "text": [
      "2023-01-08 16:07:28.315132: I tensorflow/stream_executor/cuda/cuda_gpu_executor.cc:937] successful NUMA node read from SysFS had negative value (-1), but there must be at least one NUMA node, so returning NUMA node zero\n",
      "2023-01-08 16:07:28.405168: I tensorflow/stream_executor/cuda/cuda_gpu_executor.cc:937] successful NUMA node read from SysFS had negative value (-1), but there must be at least one NUMA node, so returning NUMA node zero\n",
      "2023-01-08 16:07:28.405990: I tensorflow/stream_executor/cuda/cuda_gpu_executor.cc:937] successful NUMA node read from SysFS had negative value (-1), but there must be at least one NUMA node, so returning NUMA node zero\n",
      "2023-01-08 16:07:28.409519: I tensorflow/core/platform/cpu_feature_guard.cc:142] This TensorFlow binary is optimized with oneAPI Deep Neural Network Library (oneDNN) to use the following CPU instructions in performance-critical operations:  AVX2 AVX512F FMA\n",
      "To enable them in other operations, rebuild TensorFlow with the appropriate compiler flags.\n",
      "2023-01-08 16:07:28.409966: I tensorflow/stream_executor/cuda/cuda_gpu_executor.cc:937] successful NUMA node read from SysFS had negative value (-1), but there must be at least one NUMA node, so returning NUMA node zero\n",
      "2023-01-08 16:07:28.410839: I tensorflow/stream_executor/cuda/cuda_gpu_executor.cc:937] successful NUMA node read from SysFS had negative value (-1), but there must be at least one NUMA node, so returning NUMA node zero\n",
      "2023-01-08 16:07:28.411672: I tensorflow/stream_executor/cuda/cuda_gpu_executor.cc:937] successful NUMA node read from SysFS had negative value (-1), but there must be at least one NUMA node, so returning NUMA node zero\n",
      "2023-01-08 16:07:30.456432: I tensorflow/stream_executor/cuda/cuda_gpu_executor.cc:937] successful NUMA node read from SysFS had negative value (-1), but there must be at least one NUMA node, so returning NUMA node zero\n",
      "2023-01-08 16:07:30.457716: I tensorflow/stream_executor/cuda/cuda_gpu_executor.cc:937] successful NUMA node read from SysFS had negative value (-1), but there must be at least one NUMA node, so returning NUMA node zero\n",
      "2023-01-08 16:07:30.458579: I tensorflow/stream_executor/cuda/cuda_gpu_executor.cc:937] successful NUMA node read from SysFS had negative value (-1), but there must be at least one NUMA node, so returning NUMA node zero\n",
      "2023-01-08 16:07:30.459322: I tensorflow/core/common_runtime/gpu/gpu_device.cc:1510] Created device /job:localhost/replica:0/task:0/device:GPU:0 with 15401 MB memory:  -> device: 0, name: Tesla P100-PCIE-16GB, pci bus id: 0000:00:04.0, compute capability: 6.0\n",
      "2023-01-08 16:07:30.933932: I tensorflow/stream_executor/cuda/cuda_gpu_executor.cc:937] successful NUMA node read from SysFS had negative value (-1), but there must be at least one NUMA node, so returning NUMA node zero\n",
      "2023-01-08 16:07:30.934520: I tensorflow/stream_executor/cuda/cuda_gpu_executor.cc:937] successful NUMA node read from SysFS had negative value (-1), but there must be at least one NUMA node, so returning NUMA node zero\n",
      "2023-01-08 16:07:30.934863: I tensorflow/stream_executor/cuda/cuda_gpu_executor.cc:937] successful NUMA node read from SysFS had negative value (-1), but there must be at least one NUMA node, so returning NUMA node zero\n",
      "2023-01-08 16:07:30.935249: I tensorflow/stream_executor/cuda/cuda_gpu_executor.cc:937] successful NUMA node read from SysFS had negative value (-1), but there must be at least one NUMA node, so returning NUMA node zero\n",
      "2023-01-08 16:07:30.935569: I tensorflow/stream_executor/cuda/cuda_gpu_executor.cc:937] successful NUMA node read from SysFS had negative value (-1), but there must be at least one NUMA node, so returning NUMA node zero\n",
      "2023-01-08 16:07:30.935824: I tensorflow/core/common_runtime/gpu/gpu_device.cc:1510] Created device /job:localhost/replica:0/task:0/device:GPU:0 with 15401 MB memory:  -> device: 0, name: Tesla P100-PCIE-16GB, pci bus id: 0000:00:04.0, compute capability: 6.0\n"
     ]
    }
   ],
   "source": [
    "inp = Input(shape = (maxlen,))\n",
    "x = Embedding(max_features, embed_size, weights = [embedding_matrix], trainable = True)(inp)\n",
    "x = SpatialDropout1D(0.5)(x)\n",
    "x = Bidirectional(LSTM(40, return_sequences=True))(x)\n",
    "x = Bidirectional(GRU(40, return_sequences=True))(x)\n",
    "avg_pool = GlobalAveragePooling1D()(x)\n",
    "max_pool = GlobalMaxPooling1D()(x)\n",
    "conc = concatenate([avg_pool, max_pool])\n",
    "outp = Dense(5, activation = 'sigmoid')(conc)\n",
    "\n",
    "model = tf.keras.Model(inputs = inp, outputs = outp)\n",
    "# patience is how many epochs to wait to see if val_loss will improve again.\n",
    "earlystop = EarlyStopping(monitor = 'val_loss', min_delta = 0, patience = 3)\n",
    "checkpoint = ModelCheckpoint(monitor = 'val_loss', save_best_only = True, filepath = 'yelp_lstm_gru_weights.hdf5')\n",
    "model.compile(loss = 'binary_crossentropy', optimizer = 'adam', metrics = ['accuracy'])"
   ]
  },
  {
   "cell_type": "code",
   "execution_count": 21,
   "metadata": {
    "execution": {
     "iopub.execute_input": "2023-01-08T16:07:31.316409Z",
     "iopub.status.busy": "2023-01-08T16:07:31.316042Z",
     "iopub.status.idle": "2023-01-08T16:12:21.219085Z",
     "shell.execute_reply": "2023-01-08T16:12:21.218186Z",
     "shell.execute_reply.started": "2023-01-08T16:07:31.316373Z"
    }
   },
   "outputs": [
    {
     "name": "stdout",
     "output_type": "stream",
     "text": [
      "Train on 25200 samples, validate on 2800 samples\n",
      "Epoch 1/20\n",
      "25200/25200 [==============================] - ETA: 0s - loss: 0.4936 - acc: 0.7720"
     ]
    },
    {
     "name": "stderr",
     "output_type": "stream",
     "text": [
      "/opt/conda/lib/python3.7/site-packages/keras/engine/training.py:2470: UserWarning: `Model.state_updates` will be removed in a future version. This property should not be used in TensorFlow 2.0, as `updates` are applied automatically.\n",
      "  warnings.warn('`Model.state_updates` will be removed in a future version. '\n"
     ]
    },
    {
     "name": "stdout",
     "output_type": "stream",
     "text": [
      "25200/25200 [==============================] - 26s 1ms/sample - loss: 0.4936 - acc: 0.7720 - val_loss: 0.4457 - val_acc: 0.8091\n",
      "Epoch 2/20\n",
      "25200/25200 [==============================] - 24s 944us/sample - loss: 0.4280 - acc: 0.8194 - val_loss: 0.3965 - val_acc: 0.8332\n",
      "Epoch 3/20\n",
      "25200/25200 [==============================] - 23s 923us/sample - loss: 0.3689 - acc: 0.8416 - val_loss: 0.3453 - val_acc: 0.8446\n",
      "Epoch 4/20\n",
      "25200/25200 [==============================] - 24s 945us/sample - loss: 0.3300 - acc: 0.8540 - val_loss: 0.3166 - val_acc: 0.8559\n",
      "Epoch 5/20\n",
      "25200/25200 [==============================] - 24s 971us/sample - loss: 0.3083 - acc: 0.8614 - val_loss: 0.3054 - val_acc: 0.8582\n",
      "Epoch 6/20\n",
      "25200/25200 [==============================] - 24s 949us/sample - loss: 0.2934 - acc: 0.8659 - val_loss: 0.2959 - val_acc: 0.8604\n",
      "Epoch 7/20\n",
      "25200/25200 [==============================] - 24s 935us/sample - loss: 0.2823 - acc: 0.8706 - val_loss: 0.2894 - val_acc: 0.8659\n",
      "Epoch 8/20\n",
      "25200/25200 [==============================] - 24s 952us/sample - loss: 0.2742 - acc: 0.8737 - val_loss: 0.2914 - val_acc: 0.8662\n",
      "Epoch 9/20\n",
      "25200/25200 [==============================] - 24s 952us/sample - loss: 0.2661 - acc: 0.8770 - val_loss: 0.2855 - val_acc: 0.8658\n",
      "Epoch 10/20\n",
      "25200/25200 [==============================] - 24s 956us/sample - loss: 0.2596 - acc: 0.8803 - val_loss: 0.2911 - val_acc: 0.8651\n",
      "Epoch 11/20\n",
      "25200/25200 [==============================] - 23s 932us/sample - loss: 0.2533 - acc: 0.8831 - val_loss: 0.2875 - val_acc: 0.8666\n",
      "Epoch 12/20\n",
      "25200/25200 [==============================] - 24s 952us/sample - loss: 0.2470 - acc: 0.8864 - val_loss: 0.2874 - val_acc: 0.8670\n"
     ]
    },
    {
     "data": {
      "text/plain": [
       "<keras.callbacks.History at 0x7f6f972cddd0>"
      ]
     },
     "execution_count": 21,
     "metadata": {},
     "output_type": "execute_result"
    }
   ],
   "source": [
    "model.fit(x_train, y, batch_size = 512, epochs = 20, validation_split = .1,\n",
    "          callbacks=[earlystop, checkpoint])"
   ]
  },
  {
   "cell_type": "code",
   "execution_count": 23,
   "metadata": {
    "execution": {
     "iopub.execute_input": "2023-01-08T16:12:21.232635Z",
     "iopub.status.busy": "2023-01-08T16:12:21.232016Z",
     "iopub.status.idle": "2023-01-08T16:12:22.254319Z",
     "shell.execute_reply": "2023-01-08T16:12:22.253333Z",
     "shell.execute_reply.started": "2023-01-08T16:12:21.232600Z"
    }
   },
   "outputs": [],
   "source": [
    "y_test = model.predict([x_test], batch_size=1024, verbose = 1)"
   ]
  },
  {
   "cell_type": "code",
   "execution_count": 24,
   "metadata": {
    "execution": {
     "iopub.execute_input": "2023-01-08T16:12:22.256264Z",
     "iopub.status.busy": "2023-01-08T16:12:22.255873Z",
     "iopub.status.idle": "2023-01-08T16:12:22.895039Z",
     "shell.execute_reply": "2023-01-08T16:12:22.894073Z",
     "shell.execute_reply.started": "2023-01-08T16:12:22.256223Z"
    }
   },
   "outputs": [
    {
     "data": {
      "text/plain": [
       "[0.28812773728370666, 0.86985713]"
      ]
     },
     "execution_count": 24,
     "metadata": {},
     "output_type": "execute_result"
    }
   ],
   "source": [
    "model.evaluate(x_test, test_samp[class_names].values, verbose = 1, batch_size=1024)"
   ]
  },
  {
   "cell_type": "code",
   "execution_count": 25,
   "metadata": {
    "execution": {
     "iopub.execute_input": "2023-01-08T16:12:22.897308Z",
     "iopub.status.busy": "2023-01-08T16:12:22.896340Z",
     "iopub.status.idle": "2023-01-08T16:12:22.918979Z",
     "shell.execute_reply": "2023-01-08T16:12:22.917875Z",
     "shell.execute_reply.started": "2023-01-08T16:12:22.897270Z"
    }
   },
   "outputs": [
    {
     "name": "stdout",
     "output_type": "stream",
     "text": [
      "              precision    recall  f1-score   support\n",
      "\n",
      "           0       0.71      0.78      0.74       831\n",
      "           1       0.48      0.35      0.40       607\n",
      "           2       0.46      0.43      0.45       795\n",
      "           3       0.55      0.51      0.53      1730\n",
      "           4       0.77      0.84      0.81      3037\n",
      "\n",
      "    accuracy                           0.66      7000\n",
      "   macro avg       0.59      0.58      0.58      7000\n",
      "weighted avg       0.65      0.66      0.65      7000\n",
      "\n"
     ]
    }
   ],
   "source": [
    "v = metrics.classification_report(np.argmax(test_samp[class_names].values, axis = 1),np.argmax(y_test, axis = 1))\n",
    "print(v)"
   ]
  },
  {
   "cell_type": "markdown",
   "metadata": {},
   "source": [
    "Although our model is not perfect, the neural network approach increased precision, recall and f1-score which is quite significant. The biggest improvement was seen in 2-4 star reviews, which were previously weaker areas for the naive bayes model. "
   ]
  },
  {
   "cell_type": "markdown",
   "metadata": {},
   "source": [
    "We believe it is reasonable that ratings from 2 to 4 stars are the most difficult to get right."
   ]
  },
  {
   "cell_type": "markdown",
   "metadata": {},
   "source": [
    "We find it reasonable that ratings of 2 to 4 stars are the most difficult to get right. \n",
    "\n",
    "Let's use an example to clarify our thinking:\n",
    "Actually when we ourselves write a good but not excellent review, the fact of putting 3 or 4 stars is completely subjective and personal, so it is difficult to predict such a random behavior, which varies so much and is not subject to a rational rule."
   ]
  },
  {
   "cell_type": "markdown",
   "metadata": {},
   "source": [
    "Or when we have a bad experience but not a catastrophic one. What is the difference between 2 or 3 stars? We do not know how to put a rational rule to differentiate when to put one or the other."
   ]
  },
  {
   "cell_type": "code",
   "execution_count": 32,
   "metadata": {
    "execution": {
     "iopub.execute_input": "2023-01-08T16:37:53.099188Z",
     "iopub.status.busy": "2023-01-08T16:37:53.098826Z",
     "iopub.status.idle": "2023-01-08T16:44:58.553472Z",
     "shell.execute_reply": "2023-01-08T16:44:58.552248Z",
     "shell.execute_reply.started": "2023-01-08T16:37:53.099156Z"
    }
   },
   "outputs": [
    {
     "data": {
      "application/vnd.jupyter.widget-view+json": {
       "model_id": "df52bd08bc214e9f8390b49cea9c1b60",
       "version_major": 2,
       "version_minor": 0
      },
      "text/plain": [
       "  0%|          | 0/3 [00:00<?, ?it/s]"
      ]
     },
     "metadata": {},
     "output_type": "display_data"
    }
   ],
   "source": [
    "# importing SHAP\n",
    "import shap\n",
    "import warnings\n",
    "\n",
    "# sampling data from the training and test set to reduce time-taken\n",
    "X_train_sample = shap.sample(x_train, 20)\n",
    "X_test_sample = shap.sample(x_test, 3)\n",
    "\n",
    "# creating the KernelExplainer using the logistic regression model and training sample\n",
    "SHAP_explainer = shap.KernelExplainer(model.predict, X_train_sample)\n",
    "# run block of code and catch warnings\n",
    "with warnings.catch_warnings():\n",
    " # ignore all caught warnings\n",
    "    warnings.filterwarnings(\"ignore\")\n",
    "    # calculating the shap values of the test sample using the explainer \n",
    "    shap_vals = SHAP_explainer.shap_values(X_test_sample)"
   ]
  },
  {
   "cell_type": "code",
   "execution_count": 58,
   "metadata": {
    "execution": {
     "iopub.execute_input": "2023-01-08T17:03:54.597732Z",
     "iopub.status.busy": "2023-01-08T17:03:54.597040Z",
     "iopub.status.idle": "2023-01-08T17:03:55.310024Z",
     "shell.execute_reply": "2023-01-08T17:03:55.309118Z",
     "shell.execute_reply.started": "2023-01-08T17:03:54.597692Z"
    }
   },
   "outputs": [
    {
     "data": {
      "image/png": "[encoded data removed]",
      "text/plain": [
       "<Figure size 576x684 with 1 Axes>"
      ]
     },
     "metadata": {
      "needs_background": "light"
     },
     "output_type": "display_data"
    }
   ],
   "source": [
    "shap.summary_plot(shap_vals, X_test_sample)"
   ]
  },
  {
   "cell_type": "markdown",
   "metadata": {},
   "source": [
    "Each characteristic corresponds to a word that has a greater or lesser influence on whether the text to which it belongs is rated 1, 2, 3, 4 or 5 stars"
   ]
  },
  {
   "cell_type": "markdown",
   "metadata": {},
   "source": [
    "The characteristic to which it belongs can be seen in the dictionary created above *word_index*."
   ]
  },
  {
   "cell_type": "code",
   "execution_count": 75,
   "metadata": {
    "execution": {
     "iopub.execute_input": "2023-01-08T17:10:44.267674Z",
     "iopub.status.busy": "2023-01-08T17:10:44.267285Z",
     "iopub.status.idle": "2023-01-08T17:10:44.281026Z",
     "shell.execute_reply": "2023-01-08T17:10:44.279774Z",
     "shell.execute_reply.started": "2023-01-08T17:10:44.267635Z"
    }
   },
   "outputs": [
    {
     "data": {
      "text/plain": [
       "{'the': 1, 'and': 2, 'a': 3, 'i': 4, 'to': 5}"
      ]
     },
     "execution_count": 75,
     "metadata": {},
     "output_type": "execute_result"
    }
   ],
   "source": [
    "dict(list(word_index.items())[0:5])"
   ]
  },
  {
   "cell_type": "code",
   "execution_count": 70,
   "metadata": {
    "execution": {
     "iopub.execute_input": "2023-01-08T17:09:04.218810Z",
     "iopub.status.busy": "2023-01-08T17:09:04.218446Z",
     "iopub.status.idle": "2023-01-08T17:09:04.227320Z",
     "shell.execute_reply": "2023-01-08T17:09:04.226331Z",
     "shell.execute_reply.started": "2023-01-08T17:09:04.218779Z"
    }
   },
   "outputs": [
    {
     "data": {
      "text/plain": [
       "38439"
      ]
     },
     "execution_count": 70,
     "metadata": {},
     "output_type": "execute_result"
    }
   ],
   "source": [
    "len(word_index)"
   ]
  },
  {
   "cell_type": "markdown",
   "metadata": {},
   "source": [
    "As we can see, there is a very high number of words. "
   ]
  },
  {
   "cell_type": "markdown",
   "metadata": {},
   "source": [
    "The training time has been quite long. Even though we do not have the computational \"power\" to try to improve our model, we are going to propose a couple of lines of work for the future."
   ]
  },
  {
   "cell_type": "markdown",
   "metadata": {},
   "source": [
    "1. Improving the embeddings: A good starting point would be to combine Glove and Fasttext embeddings to improve coverage. Other options include encoding important text features such as overuse of capital letters, or normalizing text by fixing spelling errors, which could be a major area for improvement.\n",
    "\n",
    "2. Using newer architectures: Capsule networks and certain types of convolutional neural networks have shown promise in NLP tasks and could be worth exploring, either on their own or as part of an ensemble.\n",
    "\n",
    "3. Train/Test-time augmentation (TTA): This technique involves using machine translation to translate reviews into another language (such as French) and back into English, effectively providing more data and reducing overfitting. It has been successful in some Kaggle competitions and can also help with text correction for improved accuracy."
   ]
  }
 ],
 "metadata": {
  "kernelspec": {
   "display_name": "main",
   "language": "python",
   "name": "main"
  },
  "language_info": {
   "codemirror_mode": {
    "name": "ipython",
    "version": 3
   },
   "file_extension": ".py",
   "mimetype": "text/x-python",
   "name": "python",
   "nbconvert_exporter": "python",
   "pygments_lexer": "ipython3",
   "version": "3.9.13 (main, Oct 13 2022, 21:23:06) [MSC v.1916 64 bit (AMD64)]"
  },
  "vscode": {
   "interpreter": {
    "hash": "80bd0d5abd2a7a884e16db9052b989e55c2e5dd722adc4c7b5bf4c7fc204f5d6"
   }
  }
 },
 "nbformat": 4,
 "nbformat_minor": 4
}
